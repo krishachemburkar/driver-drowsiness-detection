{
 "cells": [
  {
   "cell_type": "markdown",
   "metadata": {},
   "source": [
    "#### Preparing the dataset to suit our needs"
   ]
  },
  {
   "cell_type": "markdown",
   "metadata": {},
   "source": [
    "    The main dataset was intended to be used for a different application. For it to be useful for our application we need to group all images into two folders: Open & Closed eyes. We also need to split the datset into test, train, and validation data. "
   ]
  },
  {
   "cell_type": "markdown",
   "metadata": {},
   "source": [
    "    The general indexing scheme follwed by the images in the datset indicate that the 4th index indicates if the eye is open or closed. So we use that index to split the dataset into two parts"
   ]
  },
  {
   "cell_type": "markdown",
   "metadata": {},
   "source": [
    "In the dataset, we annotated the following properties (the properties are indicated in the following order):\n",
    "\n",
    "subject ID; in the dataset, we collected the data of 37 different persons (33 men and 4 women)\n",
    "\n",
    "image ID; the dataset consists of 84,898 images\n",
    "\n",
    "gender [0 - man, 1 - woman]; the dataset contains the information about gender for each image (man, woman)\n",
    "\n",
    "glasses [0 - no, 1 - yes]; the information if the eye image contains glasses is also provided for each image (with and without the glasses)\n",
    "\n",
    "eye state [0 - closed, 1 - open]; this property contains the information about two eye states (open, close)\n",
    "\n",
    "reflections [0 - none, 1 - small, 2 - big]; we annotated three reflection states based on the size of reflections (none, small, and big reflections)\n",
    "\n",
    "lighting conditions [0 - bad, 1 - good]; each image has two states (bad, good) based on the amount of light during capturing the videos\n",
    "\n",
    "sensor ID [01 - RealSense, 02 - IDS, 03 - Aptina]; at this moment, the dataset contains the images captured by three different sensors (Intel RealSense RS 300 sensor with 640 x 480 resolution, IDS Imaging sensor with 1280 x 1024 resolution, and Aptina sensor with 752 x 480 resolution)"
   ]
  },
  {
   "cell_type": "code",
   "execution_count": 1,
   "metadata": {},
   "outputs": [],
   "source": [
    "import os \n",
    "import shutil \n",
    "import glob\n",
    "from tqdm import tqdm"
   ]
  },
  {
   "cell_type": "code",
   "execution_count": 7,
   "metadata": {},
   "outputs": [
    {
     "name": "stderr",
     "output_type": "stream",
     "text": [
      "0it [00:00, ?it/s]\n",
      "100%|██████████████████████████████████████████████████████████████████████████████| 3242/3242 [00:32<00:00, 99.22it/s]\n",
      "100%|██████████████████████████████████████████████████████████████████████████████| 1114/1114 [00:12<00:00, 89.12it/s]\n",
      "100%|████████████████████████████████████████████████████████████████████████████████| 679/679 [00:07<00:00, 87.45it/s]\n",
      "100%|██████████████████████████████████████████████████████████████████████████████| 1069/1069 [00:11<00:00, 92.09it/s]\n",
      "100%|███████████████████████████████████████████████████████████████████████████████| 736/736 [00:07<00:00, 103.27it/s]\n",
      "100%|█████████████████████████████████████████████████████████████████████████████| 1012/1012 [00:09<00:00, 103.46it/s]\n",
      "100%|████████████████████████████████████████████████████████████████████████████████| 624/624 [00:06<00:00, 98.80it/s]\n",
      "100%|███████████████████████████████████████████████████████████████████████████████| 832/832 [00:07<00:00, 110.75it/s]\n",
      "100%|███████████████████████████████████████████████████████████████████████████████| 387/387 [00:03<00:00, 105.38it/s]\n",
      "100%|███████████████████████████████████████████████████████████████████████████████| 399/399 [00:03<00:00, 101.89it/s]\n",
      "100%|██████████████████████████████████████████████████████████████████████████████| 1648/1648 [00:18<00:00, 89.39it/s]\n",
      "100%|██████████████████████████████████████████████████████████████████████████████| 8728/8728 [01:54<00:00, 75.93it/s]\n",
      "100%|██████████████████████████████████████████████████████████████████████████████| 3605/3605 [00:45<00:00, 79.14it/s]\n",
      "100%|██████████████████████████████████████████████████████████████████████████████| 8884/8884 [01:40<00:00, 88.74it/s]\n",
      "100%|██████████████████████████████████████████████████████████████████████████████| 1132/1132 [00:12<00:00, 92.96it/s]\n",
      "100%|██████████████████████████████████████████████████████████████████████████████| 1889/1889 [00:20<00:00, 91.48it/s]\n",
      "100%|██████████████████████████████████████████████████████████████████████████████| 1648/1648 [00:17<00:00, 93.50it/s]\n",
      "100%|██████████████████████████████████████████████████████████████████████████████| 4410/4410 [00:51<00:00, 86.17it/s]\n",
      "100%|██████████████████████████████████████████████████████████████████████████████| 6175/6175 [01:10<00:00, 87.95it/s]\n",
      "100%|████████████████████████████████████████████████████████████████████████████████| 704/704 [00:10<00:00, 67.74it/s]\n",
      "100%|████████████████████████████████████████████████████████████████████████████████| 987/987 [00:12<00:00, 80.24it/s]\n",
      "100%|████████████████████████████████████████████████████████████████████████████████| 382/382 [00:05<00:00, 69.15it/s]\n",
      "100%|████████████████████████████████████████████████████████████████████████████████| 522/522 [00:06<00:00, 76.94it/s]\n",
      "100%|████████████████████████████████████████████████████████████████████████████████| 752/752 [00:08<00:00, 88.86it/s]\n",
      "100%|██████████████████████████████████████████████████████████████████████████████| 1502/1502 [00:20<00:00, 73.99it/s]\n",
      "100%|██████████████████████████████████████████████████████████████████████████████| 1246/1246 [00:15<00:00, 82.40it/s]\n",
      "100%|████████████████████████████████████████████████████████████████████████████████| 665/665 [00:07<00:00, 84.50it/s]\n",
      "100%|████████████████████████████████████████████████████████████████████████████████| 736/736 [00:07<00:00, 94.18it/s]\n",
      "100%|██████████████████████████████████████████████████████████████████████████████| 1393/1393 [00:14<00:00, 94.42it/s]\n",
      "100%|██████████████████████████████████████████████████████████████████████████████| 1384/1384 [00:16<00:00, 82.91it/s]\n",
      "100%|█████████████████████████████████████████████████████████████████████████████| 1738/1738 [00:16<00:00, 102.30it/s]\n",
      "100%|██████████████████████████████████████████████████████████████████████████████| 6162/6162 [01:03<00:00, 96.99it/s]\n",
      "100%|███████████████████████████████████████████████████████████████████████████████| 681/681 [00:06<00:00, 111.06it/s]\n",
      "100%|███████████████████████████████████████████████████████████████████████████████| 739/739 [00:06<00:00, 108.92it/s]\n",
      "100%|███████████████████████████████████████████████████████████████████████████████| 642/642 [00:05<00:00, 110.94it/s]\n",
      "100%|█████████████████████████████████████████████████████████████████████████████| 6193/6193 [01:00<00:00, 102.48it/s]\n",
      "100%|███████████████████████████████████████████████████████████████████████████| 10257/10257 [01:37<00:00, 104.91it/s]\n"
     ]
    }
   ],
   "source": [
    "ROOT_DIR= r\"C:\\Users\\devan\\Desktop\\Data\\mrlEyes_2018_01\"\n",
    "for path, name, file in os.walk(ROOT_DIR):\n",
    "    for i in tqdm([img for img in file if img.endswith('.png')]):\n",
    "        if i.split('_')[4]=='0':\n",
    "            shutil.copy(src=path+'/'+i, dst=r\"C:\\Users\\devan\\Desktop\\Data\\Dataset\\Closed Eyes\")        \n",
    "        if i.split('_')[4]=='1':\n",
    "            shutil.copy(src=path+'/'+i, dst=r\"C:\\Users\\devan\\Desktop\\Data\\Dataset\\Open Eyes\")"
   ]
  },
  {
   "cell_type": "markdown",
   "metadata": {},
   "source": [
    "    The split-folders library automates the process of splitting a folder with subclasses\n",
    "    (In our case - Dataset(Open,Closed)) into test-train-validation folder format given an input ratio (80%,10%,10%)"
   ]
  },
  {
   "cell_type": "code",
   "execution_count": 8,
   "metadata": {},
   "outputs": [
    {
     "name": "stdout",
     "output_type": "stream",
     "text": [
      "Collecting split-folders\n",
      "  Downloading split_folders-0.5.1-py3-none-any.whl (8.4 kB)\n",
      "Installing collected packages: split-folders\n",
      "Successfully installed split-folders-0.5.1\n"
     ]
    }
   ],
   "source": [
    "!pip install split-folders"
   ]
  },
  {
   "cell_type": "code",
   "execution_count": 9,
   "metadata": {},
   "outputs": [],
   "source": [
    "import splitfolders"
   ]
  },
  {
   "cell_type": "code",
   "execution_count": 11,
   "metadata": {},
   "outputs": [
    {
     "name": "stderr",
     "output_type": "stream",
     "text": [
      "Copying files: 84898 files [12:28, 113.41 files/s]\n"
     ]
    }
   ],
   "source": [
    "splitfolders.ratio(r\"C:\\Users\\devan\\Desktop\\Data\\Dataset\", output=r\"C:\\Users\\devan\\Desktop\\Data\\Dataset_Final\",\n",
    "    seed=1337, ratio=(.8, .1, .1), group_prefix=None, move=False)"
   ]
  },
  {
   "cell_type": "code",
   "execution_count": 3,
   "metadata": {},
   "outputs": [],
   "source": [
    "import matplotlib.pyplot as plt"
   ]
  },
  {
   "cell_type": "code",
   "execution_count": null,
   "metadata": {},
   "outputs": [],
   "source": [
    "plt.plot()"
   ]
  }
 ],
 "metadata": {
  "kernelspec": {
   "display_name": "Python 3 (ipykernel)",
   "language": "python",
   "name": "python3"
  },
  "language_info": {
   "codemirror_mode": {
    "name": "ipython",
    "version": 3
   },
   "file_extension": ".py",
   "mimetype": "text/x-python",
   "name": "python",
   "nbconvert_exporter": "python",
   "pygments_lexer": "ipython3",
   "version": "3.10.2"
  }
 },
 "nbformat": 4,
 "nbformat_minor": 4
}
