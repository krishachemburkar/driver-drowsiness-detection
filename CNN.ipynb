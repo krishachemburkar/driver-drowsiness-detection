{
 "cells": [
  {
   "cell_type": "markdown",
   "metadata": {
    "id": "_QWjXyTnGY22"
   },
   "source": [
    "**DRIVER DROWSINESS DETECTION SYSTEM**"
   ]
  },
  {
   "cell_type": "code",
   "execution_count": null,
   "metadata": {
    "id": "3PPxG3oDCdLn"
   },
   "outputs": [],
   "source": [
    "import numpy as np \n",
    "import pandas as pd \n",
    "import matplotlib.pyplot as plt\n",
    "import seaborn as sns"
   ]
  },
  {
   "cell_type": "code",
   "execution_count": null,
   "metadata": {
    "colab": {
     "base_uri": "https://localhost:8080/"
    },
    "id": "yYBa5jIsq0Ib",
    "outputId": "a0c7b2de-a4c0-42d3-f375-761ce1120c29"
   },
   "outputs": [
    {
     "name": "stdout",
     "output_type": "stream",
     "text": [
      "Mounted at /content/drive\n"
     ]
    }
   ],
   "source": [
    "from google.colab import drive\n",
    "drive.mount('/content/drive')"
   ]
  },
  {
   "cell_type": "code",
   "execution_count": null,
   "metadata": {
    "id": "KiJqcVUmzVt0"
   },
   "outputs": [],
   "source": [
    "import zipfile\n",
    "import os\n",
    "\n",
    "zip_ref = zipfile.ZipFile('/content/drive/MyDrive/Dataset_Final.zip') #Opens the zip file in read mode\n",
    "zip_ref.extractall('/tmp') #Extracts the files into the /tmp folder\n",
    "zip_ref.close()"
   ]
  },
  {
   "cell_type": "code",
   "execution_count": null,
   "metadata": {
    "id": "g5iyx0ROvIBC"
   },
   "outputs": [],
   "source": [
    "import keras\n",
    "from keras.models import Sequential\n",
    "from keras.layers import Dense, Conv2D, MaxPool2D , Flatten"
   ]
  },
  {
   "cell_type": "markdown",
   "metadata": {
    "id": "V1dHn0nhvl3Q"
   },
   "source": [
    "**GENERATING TEST-TRAIN-VAL DATA**"
   ]
  },
  {
   "cell_type": "code",
   "execution_count": null,
   "metadata": {
    "id": "vwX6VAeeIFXd"
   },
   "outputs": [],
   "source": [
    "from keras.utils import image_dataset_from_directory\n",
    "\n",
    "import tensorflow as tf\n",
    "\n",
    "tf.config.run_functions_eagerly(True)"
   ]
  },
  {
   "cell_type": "code",
   "execution_count": null,
   "metadata": {
    "colab": {
     "base_uri": "https://localhost:8080/"
    },
    "id": "TdX-CL3P84-d",
    "outputId": "6c92ca53-e380-4b0e-e6e7-1ee80d58bae8"
   },
   "outputs": [
    {
     "name": "stdout",
     "output_type": "stream",
     "text": [
      "Found 67917 files belonging to 2 classes.\n"
     ]
    },
    {
     "name": "stderr",
     "output_type": "stream",
     "text": [
      "/usr/local/lib/python3.7/dist-packages/tensorflow/python/data/ops/structured_function.py:265: UserWarning: Even though the `tf.config.experimental_run_functions_eagerly` option is set, this option does not apply to tf.data functions. To force eager execution of tf.data functions, please use `tf.data.experimental.enable_debug_mode()`.\n",
      "  \"Even though the `tf.config.experimental_run_functions_eagerly` \"\n"
     ]
    },
    {
     "name": "stdout",
     "output_type": "stream",
     "text": [
      "Found 8492 files belonging to 2 classes.\n",
      "Found 8489 files belonging to 2 classes.\n"
     ]
    }
   ],
   "source": [
    "# 1st way \n",
    "train_dataset_vgg16 = image_dataset_from_directory('/tmp/Dataset_Final/train',batch_size=32,image_size=(224, 224),label_mode='categorical')\n",
    "test_dataset_vgg16 = image_dataset_from_directory('/tmp/Dataset_Final/test',batch_size=32,image_size=(224,224),label_mode='categorical')\n",
    "val_dataset_vgg16 = image_dataset_from_directory('/tmp/Dataset_Final/val',batch_size=32,image_size=(224,224),label_mode='categorical')"
   ]
  },
  {
   "cell_type": "code",
   "execution_count": null,
   "metadata": {
    "id": "_geFcPI67gYq"
   },
   "outputs": [],
   "source": [
    "from keras.preprocessing.image import ImageDataGenerator\n",
    "train_datagen= ImageDataGenerator(rescale=1./255, rotation_range=0.2,shear_range=0.2,\n",
    "    zoom_range=0.2,width_shift_range=0.2,\n",
    "    height_shift_range=0.2, validation_split=0.2)\n"
   ]
  },
  {
   "cell_type": "code",
   "execution_count": null,
   "metadata": {
    "colab": {
     "base_uri": "https://localhost:8080/"
    },
    "id": "KBPedFbKH-d7",
    "outputId": "d9641b24-7260-44ff-f003-06d441d98eb4"
   },
   "outputs": [
    {
     "name": "stdout",
     "output_type": "stream",
     "text": [
      "Found 54334 images belonging to 2 classes.\n",
      "Found 1698 images belonging to 2 classes.\n"
     ]
    }
   ],
   "source": [
    "# 2nd way\n",
    "train_data= train_datagen.flow_from_directory(r'/tmp/Dataset_Final/train',target_size=(224,224),batch_size=8,class_mode='categorical',subset='training')\n",
    "validation_data= train_datagen.flow_from_directory(r'/tmp/Dataset_Final/test',target_size=(224,224),batch_size=8,class_mode='categorical', subset='validation')\n"
   ]
  },
  {
   "cell_type": "markdown",
   "metadata": {
    "id": "SZIBypK3RsY-"
   },
   "source": [
    "**BUILDING A CNN ARCHITECTURE FOR IMAGE CLASSIFICATION FROM SCRATCH**"
   ]
  },
  {
   "cell_type": "code",
   "execution_count": null,
   "metadata": {
    "id": "ia2JGZs2F7-U"
   },
   "outputs": [],
   "source": [
    "from keras.models import Sequential\n",
    "from keras.layers import Dense, Dropout, Conv2D, MaxPooling2D\n",
    "from keras.utils import np_utils"
   ]
  },
  {
   "cell_type": "code",
   "execution_count": null,
   "metadata": {
    "id": "B8LDfUxBGpjB"
   },
   "outputs": [],
   "source": [
    "model_cnn = Sequential([\n",
    "            \n",
    "    Conv2D(filters=32,kernel_size=(3,3),  input_shape = (224, 224, 3),activation='relu'),\n",
    "    MaxPooling2D(pool_size=(2,2)),\n",
    "\n",
    "    Conv2D(filters=32,kernel_size=(3,3), activation='relu'),\n",
    "    MaxPooling2D(pool_size=(2,2)),\n",
    "    Dropout(0.25),\n",
    "\n",
    "    Conv2D(filters=64,kernel_size=(3,3), activation='relu'),\n",
    "    MaxPooling2D(pool_size=(2,2)),\n",
    "    Dropout(0.25),\n",
    "\n",
    "    Flatten(),\n",
    "    Dense(32, activation='relu'),\n",
    "    Dropout(0.25),\n",
    "    Dense(16, activation='relu'),\n",
    "    Dropout(0.25),\n",
    "    Dense(2, activation='softmax')\n",
    "])"
   ]
  },
  {
   "cell_type": "code",
   "execution_count": null,
   "metadata": {
    "colab": {
     "base_uri": "https://localhost:8080/"
    },
    "id": "QjoW4tzjIk2Y",
    "outputId": "870db16f-14a3-49a8-c89b-2c556bf57559"
   },
   "outputs": [
    {
     "name": "stdout",
     "output_type": "stream",
     "text": [
      "Model: \"sequential_2\"\n",
      "_________________________________________________________________\n",
      " Layer (type)                Output Shape              Param #   \n",
      "=================================================================\n",
      " conv2d_7 (Conv2D)           (None, 222, 222, 32)      896       \n",
      "                                                                 \n",
      " max_pooling2d_6 (MaxPooling  (None, 111, 111, 32)     0         \n",
      " 2D)                                                             \n",
      "                                                                 \n",
      " conv2d_8 (Conv2D)           (None, 109, 109, 32)      9248      \n",
      "                                                                 \n",
      " max_pooling2d_7 (MaxPooling  (None, 54, 54, 32)       0         \n",
      " 2D)                                                             \n",
      "                                                                 \n",
      " dropout_7 (Dropout)         (None, 54, 54, 32)        0         \n",
      "                                                                 \n",
      " conv2d_9 (Conv2D)           (None, 52, 52, 64)        18496     \n",
      "                                                                 \n",
      " max_pooling2d_8 (MaxPooling  (None, 26, 26, 64)       0         \n",
      " 2D)                                                             \n",
      "                                                                 \n",
      " dropout_8 (Dropout)         (None, 26, 26, 64)        0         \n",
      "                                                                 \n",
      " flatten_2 (Flatten)         (None, 43264)             0         \n",
      "                                                                 \n",
      " dense_5 (Dense)             (None, 32)                1384480   \n",
      "                                                                 \n",
      " dropout_9 (Dropout)         (None, 32)                0         \n",
      "                                                                 \n",
      " dense_6 (Dense)             (None, 16)                528       \n",
      "                                                                 \n",
      " dropout_10 (Dropout)        (None, 16)                0         \n",
      "                                                                 \n",
      " dense_7 (Dense)             (None, 2)                 34        \n",
      "                                                                 \n",
      "=================================================================\n",
      "Total params: 1,413,682\n",
      "Trainable params: 1,413,682\n",
      "Non-trainable params: 0\n",
      "_________________________________________________________________\n"
     ]
    }
   ],
   "source": [
    "model_cnn.summary()"
   ]
  },
  {
   "cell_type": "code",
   "execution_count": null,
   "metadata": {
    "id": "8WVyhNY4IxVp"
   },
   "outputs": [],
   "source": [
    "from tensorflow.keras.callbacks import ModelCheckpoint,EarlyStopping, ReduceLROnPlateau\n",
    "earlystop = EarlyStopping(monitor = 'val_loss', patience=7, verbose= 3, restore_best_weights=True)\n",
    "\n",
    "learning_rate = ReduceLROnPlateau(monitor= 'val_loss', patience=3, verbose= 3, )\n",
    "\n",
    "callbacks=[earlystop,learning_rate]"
   ]
  },
  {
   "cell_type": "code",
   "execution_count": null,
   "metadata": {
    "colab": {
     "base_uri": "https://localhost:8080/"
    },
    "id": "7XaIQ09nI-sL",
    "outputId": "3bd07936-c4c2-4248-c5a7-d8bae096b96a"
   },
   "outputs": [
    {
     "name": "stdout",
     "output_type": "stream",
     "text": [
      "Epoch 1/10\n",
      "2123/2123 [==============================] - 219s 99ms/step - loss: 0.6295 - accuracy: 0.6811 - val_loss: 0.3192 - val_accuracy: 0.8762 - lr: 0.0010\n",
      "Epoch 2/10\n",
      "2123/2123 [==============================] - 204s 96ms/step - loss: 0.6464 - accuracy: 0.5458 - val_loss: 0.6926 - val_accuracy: 0.5059 - lr: 0.0010\n",
      "Epoch 3/10\n",
      "2123/2123 [==============================] - 204s 96ms/step - loss: 0.6934 - accuracy: 0.5029 - val_loss: 0.6925 - val_accuracy: 0.5059 - lr: 0.0010\n",
      "Epoch 4/10\n",
      "2122/2123 [============================>.] - ETA: 0s - loss: 0.6932 - accuracy: 0.5020\n",
      "Epoch 4: ReduceLROnPlateau reducing learning rate to 0.00010000000474974513.\n",
      "2123/2123 [==============================] - 204s 96ms/step - loss: 0.6932 - accuracy: 0.5020 - val_loss: 0.6925 - val_accuracy: 0.5059 - lr: 0.0010\n",
      "Epoch 5/10\n",
      "2123/2123 [==============================] - 204s 96ms/step - loss: 0.6931 - accuracy: 0.5034 - val_loss: 0.6925 - val_accuracy: 0.5059 - lr: 1.0000e-04\n",
      "Epoch 6/10\n",
      "2123/2123 [==============================] - 206s 97ms/step - loss: 0.6931 - accuracy: 0.5037 - val_loss: 0.6925 - val_accuracy: 0.5059 - lr: 1.0000e-04\n",
      "Epoch 7/10\n",
      "2122/2123 [============================>.] - ETA: 0s - loss: 0.6931 - accuracy: 0.5040\n",
      "Epoch 7: ReduceLROnPlateau reducing learning rate to 1.0000000474974514e-05.\n",
      "2123/2123 [==============================] - 204s 96ms/step - loss: 0.6931 - accuracy: 0.5040 - val_loss: 0.6925 - val_accuracy: 0.5059 - lr: 1.0000e-04\n",
      "Epoch 8/10\n",
      "2122/2123 [============================>.] - ETA: 0s - loss: 0.6932 - accuracy: 0.5040Restoring model weights from the end of the best epoch: 1.\n",
      "2123/2123 [==============================] - 204s 96ms/step - loss: 0.6932 - accuracy: 0.5040 - val_loss: 0.6925 - val_accuracy: 0.5059 - lr: 1.0000e-05\n",
      "Epoch 8: early stopping\n"
     ]
    }
   ],
   "source": [
    "from tensorflow.keras.optimizers import Adam\n",
    "\n",
    "model_cnn.compile(optimizer=Adam(learning_rate=0.001),loss='categorical_crossentropy',metrics=['accuracy'])\n",
    "\n",
    "history = model_cnn.fit(train_dataset_vgg16,validation_data=val_dataset_vgg16, epochs=10,callbacks=callbacks)"
   ]
  },
  {
   "cell_type": "code",
   "execution_count": null,
   "metadata": {
    "colab": {
     "base_uri": "https://localhost:8080/",
     "height": 295
    },
    "id": "Vgb9TZCIJF6P",
    "outputId": "18a27cb4-057f-4d7c-dd0f-dba1395389a4"
   },
   "outputs": [
    {
     "data": {
      "image/png": "[encoded data removed]",
      "text/plain": [
       "<Figure size 432x288 with 1 Axes>"
      ]
     },
     "metadata": {
      "needs_background": "light"
     },
     "output_type": "display_data"
    }
   ],
   "source": [
    "import matplotlib.pyplot as plt\n",
    "loss_values = history.history['loss']\n",
    "val_loss_values = history.history['val_loss']\n",
    "\n",
    "epochs = range(1, len(loss_values)+1)\n",
    "plt.plot(epochs, loss_values, 'bo', label='Training loss')\n",
    "plt.plot(epochs, val_loss_values, 'b', label='Validation loss')\n",
    "plt.title('Training and validation loss')\n",
    "plt.xlabel('Epochs')\n",
    "plt.ylabel('loss')\n",
    "plt.legend()\n",
    "plt.show()"
   ]
  },
  {
   "cell_type": "code",
   "execution_count": null,
   "metadata": {
    "colab": {
     "base_uri": "https://localhost:8080/",
     "height": 295
    },
    "id": "vKpafLJNOYrg",
    "outputId": "ad09792d-4b80-414c-cf90-ec259957eae9"
   },
   "outputs": [
    {
     "data": {
      "image/png": "[encoded data removed]",
      "text/plain": [
       "<Figure size 432x288 with 1 Axes>"
      ]
     },
     "metadata": {
      "needs_background": "light"
     },
     "output_type": "display_data"
    }
   ],
   "source": [
    "loss_values = history.history['accuracy']\n",
    "val_loss_values = history.history['val_accuracy']\n",
    "\n",
    "epochs = range(1, len(loss_values)+1)\n",
    "plt.plot(epochs, loss_values, 'bo', label='Training accuracy')\n",
    "plt.plot(epochs, val_loss_values, 'b', label='Validation accuracy')\n",
    "plt.title('Training and validation accuracy')\n",
    "plt.xlabel('Epochs')\n",
    "plt.ylabel('accuracy')\n",
    "plt.legend()\n",
    "plt.show()"
   ]
  }
 ],
 "metadata": {
  "accelerator": "GPU",
  "colab": {
   "collapsed_sections": [],
   "provenance": []
  },
  "gpuClass": "standard",
  "kernelspec": {
   "display_name": "Python 3 (ipykernel)",
   "language": "python",
   "name": "python3"
  },
  "language_info": {
   "codemirror_mode": {
    "name": "ipython",
    "version": 3
   },
   "file_extension": ".py",
   "mimetype": "text/x-python",
   "name": "python",
   "nbconvert_exporter": "python",
   "pygments_lexer": "ipython3",
   "version": "3.10.2"
  }
 },
 "nbformat": 4,
 "nbformat_minor": 1
}
