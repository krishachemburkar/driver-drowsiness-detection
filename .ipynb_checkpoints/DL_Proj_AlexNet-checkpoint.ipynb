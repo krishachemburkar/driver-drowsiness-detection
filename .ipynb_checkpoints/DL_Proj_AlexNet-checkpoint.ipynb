{
 "cells": [
  {
   "cell_type": "code",
   "execution_count": null,
   "metadata": {
    "id": "PpalA9KDsee7"
   },
   "outputs": [],
   "source": [
    "import keras\n",
    "from keras.models import Sequential\n",
    "from keras.layers import Conv2D, MaxPooling2D, Dense, Flatten, Dropout\n",
    "from keras.metrics import categorical_crossentropy \n",
    "from keras.optimizers import SGD\n",
    "import zipfile\n",
    "import os,shutil"
   ]
  },
  {
   "cell_type": "code",
   "execution_count": null,
   "metadata": {
    "colab": {
     "base_uri": "https://localhost:8080/"
    },
    "id": "AkpIj5KVuff_",
    "outputId": "32c82a6b-2ccd-40e0-9537-89194886b46d"
   },
   "outputs": [
    {
     "name": "stdout",
     "output_type": "stream",
     "text": [
      "Drive already mounted at /content/drive; to attempt to forcibly remount, call drive.mount(\"/content/drive\", force_remount=True).\n"
     ]
    }
   ],
   "source": [
    "from google.colab import drive\n",
    "drive.mount('/content/drive')"
   ]
  },
  {
   "cell_type": "code",
   "execution_count": null,
   "metadata": {
    "id": "k5hPvW79ulH2"
   },
   "outputs": [],
   "source": [
    "zip_ref = zipfile.ZipFile('/content/drive/MyDrive/Dataset_Final.zip') #Opens the zip file in read mode\n",
    "zip_ref.extractall('/tmp') #Extracts the files into the /tmp folder\n",
    "zip_ref.close()"
   ]
  },
  {
   "cell_type": "code",
   "execution_count": null,
   "metadata": {
    "colab": {
     "base_uri": "https://localhost:8080/"
    },
    "id": "bSJlqn2SdMqA",
    "outputId": "c0bd9b97-83d9-472f-b71b-c0f13d8522e7"
   },
   "outputs": [
    {
     "name": "stdout",
     "output_type": "stream",
     "text": [
      "['Open Eyes', 'Closed Eyes']\n"
     ]
    }
   ],
   "source": [
    "folders=os.listdir(\"/tmp/Dataset_Final/train\")\n",
    "print((folders))"
   ]
  },
  {
   "cell_type": "code",
   "execution_count": null,
   "metadata": {
    "colab": {
     "base_uri": "https://localhost:8080/"
    },
    "id": "ynJQ89VHds1p",
    "outputId": "86943b00-d774-4f67-f003-6ad784de66df"
   },
   "outputs": [
    {
     "name": "stdout",
     "output_type": "stream",
     "text": [
      "Training Data : \n",
      "Open Eyes 34361\n",
      "Closed Eyes 33556\n"
     ]
    }
   ],
   "source": [
    "print(\"Training Data : \")\n",
    "for f in folders:\n",
    "  path=\"/tmp/Dataset_Final/train/\"+f\n",
    "  print(f+ \" \"+ str(len(os.listdir(path))))"
   ]
  },
  {
   "cell_type": "code",
   "execution_count": null,
   "metadata": {
    "colab": {
     "base_uri": "https://localhost:8080/"
    },
    "id": "FT_56KQYd8Vc",
    "outputId": "8982463c-30b0-4862-a665-15d3bb97cff2"
   },
   "outputs": [
    {
     "name": "stdout",
     "output_type": "stream",
     "text": [
      "Found 67917 images belonging to 2 classes.\n",
      "Found 8489 images belonging to 2 classes.\n",
      "Found 8492 images belonging to 2 classes.\n"
     ]
    }
   ],
   "source": [
    "from keras.preprocessing.image import ImageDataGenerator\n",
    "\n",
    "train_gen=ImageDataGenerator(rescale=1.0/255,\n",
    "                             shear_range=0.2,\n",
    "                             zoom_range=0.2,\n",
    "                             )\n",
    "val_gen=ImageDataGenerator(rescale=1.0/255)\n",
    "\n",
    "test_gen=ImageDataGenerator(rescale=1.0/255)\n",
    "\n",
    "train_generator=train_gen.flow_from_directory(\n",
    "    \"/tmp/Dataset_Final/train/\",\n",
    "    target_size=(227,227),\n",
    "    batch_size=32,\n",
    "    class_mode='categorical'\n",
    ")\n",
    "\n",
    "val_generator = val_gen.flow_from_directory(\n",
    "    \"/tmp/Dataset_Final/val/\",\n",
    "    target_size=(227,227),\n",
    "    batch_size=32,\n",
    "    class_mode='categorical'\n",
    ")\n",
    "\n",
    "test_generator = test_gen.flow_from_directory(\n",
    "    \"/tmp/Dataset_Final/test/\",\n",
    "    target_size=(227,227),\n",
    "    batch_size=32,\n",
    "    class_mode='categorical'\n",
    ")"
   ]
  },
  {
   "cell_type": "code",
   "execution_count": null,
   "metadata": {
    "colab": {
     "base_uri": "https://localhost:8080/"
    },
    "id": "Ib1QG1KheJWb",
    "outputId": "eeb37cd5-2851-464f-da59-1669309037d3"
   },
   "outputs": [
    {
     "name": "stdout",
     "output_type": "stream",
     "text": [
      "(32, 227, 227, 3)\n",
      "(32, 2)\n"
     ]
    }
   ],
   "source": [
    "for x,y in train_generator:\n",
    "  print(x.shape)\n",
    "  print(y.shape)\n",
    "  break"
   ]
  },
  {
   "cell_type": "code",
   "execution_count": null,
   "metadata": {
    "colab": {
     "base_uri": "https://localhost:8080/"
    },
    "id": "2BBdql9leMn0",
    "outputId": "7d91160a-1309-4355-fbde-539d8d363d55"
   },
   "outputs": [
    {
     "data": {
      "text/plain": [
       "{'Closed Eyes': 0, 'Open Eyes': 1}"
      ]
     },
     "execution_count": 13,
     "metadata": {},
     "output_type": "execute_result"
    }
   ],
   "source": [
    "train_generator.class_indices"
   ]
  },
  {
   "cell_type": "markdown",
   "metadata": {
    "id": "NEsSl4475kkZ"
   },
   "source": [
    "![AlexNet.png](data:image/png;base64,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)"
   ]
  },
  {
   "cell_type": "code",
   "execution_count": null,
   "metadata": {
    "colab": {
     "base_uri": "https://localhost:8080/"
    },
    "id": "R-qKrGMlyR4c",
    "outputId": "b304cbf9-ba92-41fa-833d-d2a523127a8a"
   },
   "outputs": [
    {
     "name": "stdout",
     "output_type": "stream",
     "text": [
      "Model: \"sequential\"\n",
      "_________________________________________________________________\n",
      " Layer (type)                Output Shape              Param #   \n",
      "=================================================================\n",
      " conv2d (Conv2D)             (None, 55, 55, 32)        11648     \n",
      "                                                                 \n",
      " max_pooling2d (MaxPooling2D  (None, 27, 27, 32)       0         \n",
      " )                                                               \n",
      "                                                                 \n",
      " conv2d_1 (Conv2D)           (None, 23, 23, 256)       205056    \n",
      "                                                                 \n",
      " max_pooling2d_1 (MaxPooling  (None, 11, 11, 256)      0         \n",
      " 2D)                                                             \n",
      "                                                                 \n",
      " conv2d_2 (Conv2D)           (None, 9, 9, 384)         885120    \n",
      "                                                                 \n",
      " conv2d_3 (Conv2D)           (None, 7, 7, 384)         1327488   \n",
      "                                                                 \n",
      " conv2d_4 (Conv2D)           (None, 3, 3, 256)         2457856   \n",
      "                                                                 \n",
      " max_pooling2d_2 (MaxPooling  (None, 1, 1, 256)        0         \n",
      " 2D)                                                             \n",
      "                                                                 \n",
      " flatten (Flatten)           (None, 256)               0         \n",
      "                                                                 \n",
      " dense (Dense)               (None, 4096)              1052672   \n",
      "                                                                 \n",
      " dropout (Dropout)           (None, 4096)              0         \n",
      "                                                                 \n",
      " dense_1 (Dense)             (None, 4096)              16781312  \n",
      "                                                                 \n",
      " dropout_1 (Dropout)         (None, 4096)              0         \n",
      "                                                                 \n",
      " dense_2 (Dense)             (None, 4096)              16781312  \n",
      "                                                                 \n",
      " dropout_2 (Dropout)         (None, 4096)              0         \n",
      "                                                                 \n",
      " dense_3 (Dense)             (None, 2)                 8194      \n",
      "                                                                 \n",
      "=================================================================\n",
      "Total params: 39,510,658\n",
      "Trainable params: 39,510,658\n",
      "Non-trainable params: 0\n",
      "_________________________________________________________________\n"
     ]
    }
   ],
   "source": [
    "#Instantiate an empty model\n",
    "model = Sequential()\n",
    "\n",
    "# 1st Convolutional Layer\n",
    "model.add(Conv2D(filters=32, input_shape=(227,227,3), kernel_size=(11,11), strides=(4,4), padding=\"valid\",activation = 'relu'))\n",
    "\n",
    "# Max Pooling\n",
    "model.add(MaxPooling2D(pool_size=(3,3), strides=(2,2)))\n",
    "\n",
    "# 2nd Convolutional Layer\n",
    "model.add(Conv2D(filters=256, kernel_size=(5,5), strides=(1,1), padding='valid',activation = 'relu'))\n",
    "\n",
    "# Max Pooling\n",
    "model.add(MaxPooling2D(pool_size=(3,3), strides=(2,2)))\n",
    "\n",
    "# 3rd Convolutional Layer\n",
    "model.add(Conv2D(filters=384, kernel_size=(3,3), strides=(1,1), padding='valid',activation = 'relu'))\n",
    "\n",
    "\n",
    "# 4th Convolutional Layer\n",
    "model.add(Conv2D(filters=384, kernel_size=(3,3), strides=(1,1), padding='valid',activation = 'relu'))\n",
    "\n",
    "\n",
    "# 5th Convolutional Layer\n",
    "model.add(Conv2D(filters=256, kernel_size=(5,5), strides=(1,1), padding='valid',activation = 'relu'))\n",
    "\n",
    "# Max Pooling\n",
    "model.add(MaxPooling2D(pool_size=(3,3), strides=(2,2)))\n",
    "\n",
    "# Passing it to a Fully Connected layer\n",
    "model.add(Flatten())\n",
    "# 1st Fully Connected Layer\n",
    "model.add(Dense(4096, input_shape=(224,224,3,),activation = 'relu'))\n",
    "\n",
    "# Add Dropout to prevent overfitting\n",
    "model.add(Dropout(0.5))\n",
    "\n",
    "# 2nd Fully Connected Layer\n",
    "model.add(Dense(4096,activation = 'relu'))\n",
    "\n",
    "# Add Dropout\n",
    "model.add(Dropout(0.5))\n",
    "\n",
    "# 3rd Fully Connected Layer\n",
    "model.add(Dense(4096,activation = 'relu'))\n",
    "\n",
    "# Add Dropout\n",
    "model.add(Dropout(0.5))\n",
    "\n",
    "# Output Layer\n",
    "model.add(Dense(2,activation = 'softmax'))\n",
    "\n",
    "\n",
    "model.summary()\n",
    "\n",
    "# Compile the model\n",
    "model.compile(loss=keras.losses.categorical_crossentropy, optimizer='adam', metrics=['accuracy'])"
   ]
  },
  {
   "cell_type": "code",
   "execution_count": null,
   "metadata": {
    "id": "mI2OmVqL0M2g"
   },
   "outputs": [],
   "source": [
    "from keras.callbacks import EarlyStopping, ModelCheckpoint, ReduceLROnPlateau\n",
    "import h5py"
   ]
  },
  {
   "cell_type": "code",
   "execution_count": null,
   "metadata": {
    "id": "P16hHdCg1BXp"
   },
   "outputs": [],
   "source": [
    "erl_stp = EarlyStopping(monitor='val_loss',patience=6, restore_best_weights=True)\n",
    "mod_chk = ModelCheckpoint(filepath='/content/gdrive/MyDrive/my_model.h5',monitor='val_loss',save_best_only=True)\n",
    "lr_rate = ReduceLROnPlateau(monitor='val_loss',patience=3,factor=0.1)"
   ]
  },
  {
   "cell_type": "code",
   "execution_count": null,
   "metadata": {
    "colab": {
     "base_uri": "https://localhost:8080/"
    },
    "id": "mTPiJdjn4ExH",
    "outputId": "cf6e6c4a-6571-4796-8970-14acb787094f"
   },
   "outputs": [
    {
     "name": "stdout",
     "output_type": "stream",
     "text": [
      "Epoch 1/50\n",
      "100/100 [==============================] - 45s 451ms/step - loss: 0.1524 - accuracy: 0.9541 - val_loss: 0.1198 - val_accuracy: 0.9616 - lr: 0.0010\n",
      "Epoch 2/50\n",
      "100/100 [==============================] - 42s 425ms/step - loss: 0.1761 - accuracy: 0.9409 - val_loss: 0.1617 - val_accuracy: 0.9475 - lr: 0.0010\n",
      "Epoch 3/50\n",
      "100/100 [==============================] - 42s 419ms/step - loss: 0.1593 - accuracy: 0.9478 - val_loss: 0.1363 - val_accuracy: 0.9552 - lr: 0.0010\n",
      "Epoch 4/50\n",
      "100/100 [==============================] - 41s 414ms/step - loss: 0.1424 - accuracy: 0.9513 - val_loss: 0.1233 - val_accuracy: 0.9528 - lr: 0.0010\n",
      "Epoch 5/50\n",
      "100/100 [==============================] - 43s 432ms/step - loss: 0.1472 - accuracy: 0.9481 - val_loss: 0.1058 - val_accuracy: 0.9638 - lr: 1.0000e-04\n",
      "Epoch 6/50\n",
      "100/100 [==============================] - 43s 434ms/step - loss: 0.1342 - accuracy: 0.9547 - val_loss: 0.1009 - val_accuracy: 0.9655 - lr: 1.0000e-04\n",
      "Epoch 7/50\n",
      "100/100 [==============================] - 44s 443ms/step - loss: 0.1183 - accuracy: 0.9603 - val_loss: 0.0989 - val_accuracy: 0.9668 - lr: 1.0000e-04\n",
      "Epoch 8/50\n",
      "100/100 [==============================] - 43s 430ms/step - loss: 0.1305 - accuracy: 0.9594 - val_loss: 0.0979 - val_accuracy: 0.9670 - lr: 1.0000e-04\n",
      "Epoch 9/50\n",
      "100/100 [==============================] - 43s 431ms/step - loss: 0.1101 - accuracy: 0.9613 - val_loss: 0.0951 - val_accuracy: 0.9687 - lr: 1.0000e-04\n",
      "Epoch 10/50\n",
      "100/100 [==============================] - 41s 414ms/step - loss: 0.1181 - accuracy: 0.9603 - val_loss: 0.0977 - val_accuracy: 0.9675 - lr: 1.0000e-04\n",
      "Epoch 11/50\n",
      "100/100 [==============================] - 43s 434ms/step - loss: 0.1129 - accuracy: 0.9603 - val_loss: 0.0951 - val_accuracy: 0.9682 - lr: 1.0000e-04\n",
      "Epoch 12/50\n",
      "100/100 [==============================] - 43s 431ms/step - loss: 0.1124 - accuracy: 0.9581 - val_loss: 0.0946 - val_accuracy: 0.9680 - lr: 1.0000e-04\n",
      "Epoch 13/50\n",
      "100/100 [==============================] - 42s 420ms/step - loss: 0.1175 - accuracy: 0.9588 - val_loss: 0.0976 - val_accuracy: 0.9685 - lr: 1.0000e-04\n",
      "Epoch 14/50\n",
      "100/100 [==============================] - 43s 435ms/step - loss: 0.1165 - accuracy: 0.9603 - val_loss: 0.0921 - val_accuracy: 0.9683 - lr: 1.0000e-04\n",
      "Epoch 15/50\n",
      "100/100 [==============================] - 43s 435ms/step - loss: 0.1084 - accuracy: 0.9659 - val_loss: 0.0907 - val_accuracy: 0.9693 - lr: 1.0000e-04\n",
      "Epoch 16/50\n",
      "100/100 [==============================] - 41s 410ms/step - loss: 0.1047 - accuracy: 0.9672 - val_loss: 0.0929 - val_accuracy: 0.9683 - lr: 1.0000e-04\n",
      "Epoch 17/50\n",
      "100/100 [==============================] - 43s 430ms/step - loss: 0.1109 - accuracy: 0.9634 - val_loss: 0.0901 - val_accuracy: 0.9696 - lr: 1.0000e-04\n",
      "Epoch 18/50\n",
      "100/100 [==============================] - 42s 426ms/step - loss: 0.1072 - accuracy: 0.9623 - val_loss: 0.0897 - val_accuracy: 0.9700 - lr: 1.0000e-04\n",
      "Epoch 19/50\n",
      "100/100 [==============================] - 43s 434ms/step - loss: 0.1053 - accuracy: 0.9625 - val_loss: 0.0886 - val_accuracy: 0.9700 - lr: 1.0000e-04\n",
      "Epoch 20/50\n",
      "100/100 [==============================] - 43s 427ms/step - loss: 0.1173 - accuracy: 0.9616 - val_loss: 0.0928 - val_accuracy: 0.9684 - lr: 1.0000e-04\n",
      "Epoch 21/50\n",
      "100/100 [==============================] - 43s 435ms/step - loss: 0.1167 - accuracy: 0.9572 - val_loss: 0.0877 - val_accuracy: 0.9704 - lr: 1.0000e-04\n",
      "Epoch 22/50\n",
      "100/100 [==============================] - 43s 433ms/step - loss: 0.1012 - accuracy: 0.9653 - val_loss: 0.0877 - val_accuracy: 0.9701 - lr: 1.0000e-04\n",
      "Epoch 23/50\n",
      "100/100 [==============================] - 45s 447ms/step - loss: 0.1090 - accuracy: 0.9650 - val_loss: 0.0863 - val_accuracy: 0.9704 - lr: 1.0000e-04\n",
      "Epoch 24/50\n",
      "100/100 [==============================] - 41s 415ms/step - loss: 0.0929 - accuracy: 0.9647 - val_loss: 0.0875 - val_accuracy: 0.9697 - lr: 1.0000e-04\n",
      "Epoch 25/50\n",
      "100/100 [==============================] - 41s 414ms/step - loss: 0.1051 - accuracy: 0.9634 - val_loss: 0.0871 - val_accuracy: 0.9702 - lr: 1.0000e-04\n",
      "Epoch 26/50\n",
      "100/100 [==============================] - 43s 432ms/step - loss: 0.0903 - accuracy: 0.9678 - val_loss: 0.0848 - val_accuracy: 0.9709 - lr: 1.0000e-04\n",
      "Epoch 27/50\n",
      "100/100 [==============================] - 42s 424ms/step - loss: 0.0977 - accuracy: 0.9644 - val_loss: 0.0898 - val_accuracy: 0.9694 - lr: 1.0000e-04\n",
      "Epoch 28/50\n",
      "100/100 [==============================] - 42s 419ms/step - loss: 0.0924 - accuracy: 0.9675 - val_loss: 0.0905 - val_accuracy: 0.9701 - lr: 1.0000e-04\n",
      "Epoch 29/50\n",
      "100/100 [==============================] - 42s 420ms/step - loss: 0.1061 - accuracy: 0.9628 - val_loss: 0.0871 - val_accuracy: 0.9700 - lr: 1.0000e-04\n",
      "Epoch 30/50\n",
      "100/100 [==============================] - 44s 443ms/step - loss: 0.1021 - accuracy: 0.9660 - val_loss: 0.0845 - val_accuracy: 0.9707 - lr: 1.0000e-05\n",
      "Epoch 31/50\n",
      "100/100 [==============================] - 44s 436ms/step - loss: 0.1052 - accuracy: 0.9645 - val_loss: 0.0845 - val_accuracy: 0.9710 - lr: 1.0000e-05\n",
      "Epoch 32/50\n",
      "100/100 [==============================] - 41s 414ms/step - loss: 0.1187 - accuracy: 0.9622 - val_loss: 0.0849 - val_accuracy: 0.9715 - lr: 1.0000e-05\n",
      "Epoch 33/50\n",
      "100/100 [==============================] - 43s 431ms/step - loss: 0.0926 - accuracy: 0.9697 - val_loss: 0.0845 - val_accuracy: 0.9716 - lr: 1.0000e-05\n",
      "Epoch 34/50\n",
      "100/100 [==============================] - 43s 434ms/step - loss: 0.0937 - accuracy: 0.9684 - val_loss: 0.0844 - val_accuracy: 0.9715 - lr: 1.0000e-06\n",
      "Epoch 35/50\n",
      "100/100 [==============================] - 41s 414ms/step - loss: 0.1008 - accuracy: 0.9628 - val_loss: 0.0844 - val_accuracy: 0.9714 - lr: 1.0000e-06\n",
      "Epoch 36/50\n",
      "100/100 [==============================] - 43s 430ms/step - loss: 0.1118 - accuracy: 0.9631 - val_loss: 0.0844 - val_accuracy: 0.9714 - lr: 1.0000e-06\n",
      "Epoch 37/50\n",
      "100/100 [==============================] - 45s 454ms/step - loss: 0.1021 - accuracy: 0.9650 - val_loss: 0.0844 - val_accuracy: 0.9714 - lr: 1.0000e-06\n",
      "Epoch 38/50\n",
      "100/100 [==============================] - 42s 421ms/step - loss: 0.1010 - accuracy: 0.9653 - val_loss: 0.0844 - val_accuracy: 0.9714 - lr: 1.0000e-06\n",
      "Epoch 39/50\n",
      "100/100 [==============================] - 44s 440ms/step - loss: 0.0959 - accuracy: 0.9666 - val_loss: 0.0843 - val_accuracy: 0.9716 - lr: 1.0000e-06\n",
      "Epoch 40/50\n",
      "100/100 [==============================] - 43s 431ms/step - loss: 0.1050 - accuracy: 0.9634 - val_loss: 0.0843 - val_accuracy: 0.9716 - lr: 1.0000e-07\n",
      "Epoch 41/50\n",
      "100/100 [==============================] - 43s 430ms/step - loss: 0.0963 - accuracy: 0.9663 - val_loss: 0.0843 - val_accuracy: 0.9716 - lr: 1.0000e-07\n",
      "Epoch 42/50\n",
      "100/100 [==============================] - 44s 444ms/step - loss: 0.1003 - accuracy: 0.9650 - val_loss: 0.0843 - val_accuracy: 0.9716 - lr: 1.0000e-07\n",
      "Epoch 43/50\n",
      "100/100 [==============================] - 43s 433ms/step - loss: 0.0962 - accuracy: 0.9688 - val_loss: 0.0843 - val_accuracy: 0.9716 - lr: 1.0000e-08\n",
      "Epoch 44/50\n",
      "100/100 [==============================] - 43s 433ms/step - loss: 0.0836 - accuracy: 0.9691 - val_loss: 0.0843 - val_accuracy: 0.9716 - lr: 1.0000e-08\n",
      "Epoch 45/50\n",
      "100/100 [==============================] - 46s 454ms/step - loss: 0.1005 - accuracy: 0.9622 - val_loss: 0.0843 - val_accuracy: 0.9716 - lr: 1.0000e-08\n",
      "Epoch 46/50\n",
      "100/100 [==============================] - 42s 421ms/step - loss: 0.1000 - accuracy: 0.9669 - val_loss: 0.0843 - val_accuracy: 0.9716 - lr: 1.0000e-09\n",
      "Epoch 47/50\n",
      "100/100 [==============================] - 42s 420ms/step - loss: 0.0998 - accuracy: 0.9631 - val_loss: 0.0843 - val_accuracy: 0.9716 - lr: 1.0000e-09\n",
      "Epoch 48/50\n",
      "100/100 [==============================] - 41s 415ms/step - loss: 0.0930 - accuracy: 0.9701 - val_loss: 0.0843 - val_accuracy: 0.9716 - lr: 1.0000e-09\n",
      "Epoch 49/50\n",
      "100/100 [==============================] - 42s 420ms/step - loss: 0.1045 - accuracy: 0.9622 - val_loss: 0.0843 - val_accuracy: 0.9716 - lr: 1.0000e-10\n",
      "Epoch 50/50\n",
      "100/100 [==============================] - 42s 423ms/step - loss: 0.1091 - accuracy: 0.9638 - val_loss: 0.0843 - val_accuracy: 0.9716 - lr: 1.0000e-10\n"
     ]
    }
   ],
   "source": [
    "hist = model.fit(\n",
    "    train_generator,\n",
    "    steps_per_epoch = 100,\n",
    "    epochs=50,\n",
    "    validation_data=val_generator,\n",
    "    callbacks=[erl_stp,mod_chk,lr_rate]\n",
    ")"
   ]
  },
  {
   "cell_type": "code",
   "execution_count": null,
   "metadata": {
    "colab": {
     "base_uri": "https://localhost:8080/",
     "height": 347
    },
    "id": "dCUJ-lHYiTna",
    "outputId": "8b3709c0-8df7-4f0e-a1da-8e649aed1898"
   },
   "outputs": [
    {
     "data": {
      "image/png": "[encoded data removed]",
      "text/plain": [
       "<Figure size 576x396 with 1 Axes>"
      ]
     },
     "metadata": {},
     "output_type": "display_data"
    }
   ],
   "source": [
    "import matplotlib.pyplot as plt\n",
    "plt.style.use(\"seaborn\")\n",
    "\n",
    "plt.plot(hist.history['accuracy'],label=\"training accuracy\",c='red')\n",
    "plt.plot(hist.history['val_accuracy'],label=\"validation accuracy\",c='blue')\n",
    "plt.legend()\n",
    "plt.show()\n"
   ]
  },
  {
   "cell_type": "code",
   "execution_count": null,
   "metadata": {
    "colab": {
     "base_uri": "https://localhost:8080/"
    },
    "id": "GlpfLZToFHVY",
    "outputId": "d81692bf-c67c-4b55-9bf5-505274757732"
   },
   "outputs": [
    {
     "name": "stdout",
     "output_type": "stream",
     "text": [
      "266/266 [==============================] - 15s 55ms/step - loss: 0.0891 - accuracy: 0.9694\n",
      "96.94\n"
     ]
    }
   ],
   "source": [
    "acc = model.evaluate(test_generator,steps=len(test_generator))\n",
    "print('%.2f'%(acc[1]*100))"
   ]
  },
  {
   "cell_type": "code",
   "execution_count": null,
   "metadata": {
    "id": "V4OYdYWcJwkL"
   },
   "outputs": [],
   "source": [
    "model.save('my_model.h5')"
   ]
  },
  {
   "cell_type": "code",
   "execution_count": null,
   "metadata": {
    "colab": {
     "base_uri": "https://localhost:8080/"
    },
    "id": "cH_WDII8Y7oo",
    "outputId": "4044c2cd-7bf1-46d2-9ce6-cb18832f7471"
   },
   "outputs": [
    {
     "name": "stdout",
     "output_type": "stream",
     "text": [
      "[NbConvertApp] Converting notebook AlexNet.ipynb to html\n",
      "[NbConvertApp] Writing 381495 bytes to AlexNet.html\n"
     ]
    }
   ],
   "source": [
    "!jupyter nbconvert --to html AlexNet.ipynb"
   ]
  }
 ],
 "metadata": {
  "accelerator": "GPU",
  "colab": {
   "collapsed_sections": [],
   "provenance": []
  },
  "gpuClass": "standard",
  "kernelspec": {
   "display_name": "Python 3 (ipykernel)",
   "language": "python",
   "name": "python3"
  },
  "language_info": {
   "codemirror_mode": {
    "name": "ipython",
    "version": 3
   },
   "file_extension": ".py",
   "mimetype": "text/x-python",
   "name": "python",
   "nbconvert_exporter": "python",
   "pygments_lexer": "ipython3",
   "version": "3.10.2"
  }
 },
 "nbformat": 4,
 "nbformat_minor": 1
}
